{
 "cells": [
  {
   "cell_type": "markdown",
   "id": "b590f4b9",
   "metadata": {},
   "source": [
    "# ASSIGNEMNT 1:\n",
    "\n",
    "1. Write a program to iterate the first 10 numbers, and in each iteration, print the sum of\n",
    "the current and previous number."
   ]
  },
  {
   "cell_type": "code",
   "execution_count": 1,
   "id": "c4c0c56e",
   "metadata": {},
   "outputs": [
    {
     "name": "stdout",
     "output_type": "stream",
     "text": [
      "sum of 0 and 1 is :1\n",
      "sum of 1 and 2 is :3\n",
      "sum of 2 and 3 is :5\n",
      "sum of 3 and 4 is :7\n",
      "sum of 4 and 5 is :9\n",
      "sum of 5 and 6 is :11\n",
      "sum of 6 and 7 is :13\n",
      "sum of 7 and 8 is :15\n",
      "sum of 8 and 9 is :17\n",
      "sum of 9 and 10 is :19\n"
     ]
    }
   ],
   "source": [
    "prev_num = 0\n",
    "for i in range (1,11):\n",
    "    sum = prev_num + i\n",
    "    print(f\"sum of {prev_num} and {i} is :{sum}\")\n",
    "    prev_num = i"
   ]
  },
  {
   "cell_type": "markdown",
   "id": "5277f3d9",
   "metadata": {},
   "source": [
    "2. Print the following pattern\n",
    "1\n",
    "2 2\n",
    "3 3 3\n",
    "4 4 4 4\n",
    "5 5 5 5 5"
   ]
  },
  {
   "cell_type": "code",
   "execution_count": 2,
   "id": "cabbb4d8",
   "metadata": {},
   "outputs": [
    {
     "name": "stdout",
     "output_type": "stream",
     "text": [
      "1 \n",
      "2 2 \n",
      "3 3 3 \n",
      "4 4 4 4 \n",
      "5 5 5 5 5 \n"
     ]
    }
   ],
   "source": [
    "row = 5\n",
    "for i in range (1, row +1):\n",
    "    for j in range (i):\n",
    "        print(i,end=\" \")\n",
    "    print()"
   ]
  },
  {
   "cell_type": "markdown",
   "id": "7df5fe46",
   "metadata": {},
   "source": [
    "3. List is given below:\n",
    "numbers = [12, 75, 150, 180, 145, 525, 50]\n",
    "Write a program to display only those numbers from a list that satisfy the following\n",
    "conditions\n",
    "i. The number must be divisible by five\n",
    "ii. If the number is greater than 150, then skip it and move to the next number\n",
    "iii. If the number is greater than 500, then stop the loop"
   ]
  },
  {
   "cell_type": "code",
   "execution_count": 3,
   "id": "79dd1ba0",
   "metadata": {},
   "outputs": [
    {
     "name": "stdout",
     "output_type": "stream",
     "text": [
      "75\n",
      "150\n",
      "145\n",
      "50\n"
     ]
    }
   ],
   "source": [
    "numbers = [12, 75, 150, 180, 145, 525, 50]\n",
    "for num in numbers:\n",
    "    if num % 5 == 0:\n",
    "        if num > 150:\n",
    "            continue\n",
    "        elif num> 500:\n",
    "            break\n",
    "        else:\n",
    "            print (num)"
   ]
  },
  {
   "cell_type": "markdown",
   "id": "8942a5b5",
   "metadata": {},
   "source": [
    "4. Display Fibonacci series up to 10 terms\n",
    "The Fibonacci Sequence is a series of numbers. The next number is found by adding\n",
    "up the two numbers before it. The first two numbers are 0 and 1.\n",
    "For example, 0, 1, 1, 2, 3, 5, 8, 13, 21. The next number in this series above is\n",
    "13+21 = 34."
   ]
  },
  {
   "cell_type": "code",
   "execution_count": 4,
   "id": "d015eae9",
   "metadata": {},
   "outputs": [
    {
     "name": "stdout",
     "output_type": "stream",
     "text": [
      "0\n",
      "1\n",
      "1\n",
      "2\n",
      "3\n",
      "5\n",
      "8\n",
      "13\n",
      "21\n",
      "34\n"
     ]
    }
   ],
   "source": [
    "sum = 10\n",
    "n1 = 0 \n",
    "n2 = 1\n",
    "for i in range (sum):\n",
    "    print (n1)\n",
    "    temp = n1\n",
    "    n1 = n2\n",
    "    n2 = temp +n1"
   ]
  },
  {
   "cell_type": "markdown",
   "id": "25cecf64",
   "metadata": {},
   "source": [
    "5. Write a program to use the loop to find the factorial of a given number.\n",
    "The factorial (symbol: !) means to multiply all whole numbers from the chosen number\n",
    "down to 1.\n",
    "For example: calculate the factorial of 5\n",
    "5! = 5 × 4 × 3 × 2 × 1 = 120\n"
   ]
  },
  {
   "cell_type": "code",
   "execution_count": 5,
   "id": "8e91ee6b",
   "metadata": {},
   "outputs": [
    {
     "name": "stdout",
     "output_type": "stream",
     "text": [
      "Enter a number:7\n",
      "The factorial of 7 is: 5040\n"
     ]
    }
   ],
   "source": [
    "num = int(input(\"Enter a number:\"))\n",
    "fact = 1\n",
    "a = 1\n",
    "while a<= num:\n",
    "    fact = fact * a\n",
    "    a = a+1\n",
    "print(\"The factorial of\",num,\"is:\", fact)"
   ]
  },
  {
   "cell_type": "markdown",
   "id": "abc42d7e",
   "metadata": {},
   "source": [
    "6. Write a program to iterate a given list and count the occurrence of each element and\n",
    "print to show the count of each element.\n",
    "sample_list = [11, 45, 8, 11, 23, 45, 23, 45, 89]\n"
   ]
  },
  {
   "cell_type": "code",
   "execution_count": 6,
   "id": "6196c360",
   "metadata": {},
   "outputs": [
    {
     "name": "stdout",
     "output_type": "stream",
     "text": [
      "The count of 11 is 2\n",
      "The count of 45 is 3\n",
      "The count of 8 is 1\n",
      "The count of 23 is 2\n",
      "The count of 89 is 1\n"
     ]
    }
   ],
   "source": [
    "list = [11, 45, 8, 11, 23, 45, 23, 45, 89]\n",
    "count_dict = {}\n",
    "for element in list:\n",
    "    if element in count_dict:\n",
    "        count_dict[element] += 1\n",
    "    else:\n",
    "        count_dict[element] = 1\n",
    "for element, count in count_dict.items():\n",
    "    print(f\"The count of {element} is {count}\")"
   ]
  },
  {
   "cell_type": "markdown",
   "id": "ce6be560",
   "metadata": {},
   "source": [
    "7. Given two lists, l1 and l2, write a program to create a third list l3 by picking an\n",
    "odd-index element from the list l1 and even index elements from the list l2.\n",
    "Given:\n",
    "l1 = [3, 6, 9, 12, 15, 18, 21]\n",
    "l2 = [4, 8, 12, 16, 20, 24, 28]\n"
   ]
  },
  {
   "cell_type": "code",
   "execution_count": 7,
   "id": "7820becd",
   "metadata": {},
   "outputs": [
    {
     "name": "stdout",
     "output_type": "stream",
     "text": [
      "List 3: [6, 12, 18, 4, 12, 20, 28]\n"
     ]
    }
   ],
   "source": [
    "l1 = [3, 6, 9, 12, 15, 18, 21]\n",
    "l2 = [4, 8, 12, 16, 20, 24, 28]\n",
    "l3 = []\n",
    "for i in range (1, len(l1),2):\n",
    "    l3.append(l1[i])\n",
    "for i in range (0, len(l2),2):\n",
    "    l3.append(l2[i])\n",
    "print(\"List 3:\",l3)"
   ]
  },
  {
   "cell_type": "code",
   "execution_count": null,
   "id": "7f38109c",
   "metadata": {},
   "outputs": [],
   "source": []
  }
 ],
 "metadata": {
  "kernelspec": {
   "display_name": "Python 3 (ipykernel)",
   "language": "python",
   "name": "python3"
  },
  "language_info": {
   "codemirror_mode": {
    "name": "ipython",
    "version": 3
   },
   "file_extension": ".py",
   "mimetype": "text/x-python",
   "name": "python",
   "nbconvert_exporter": "python",
   "pygments_lexer": "ipython3",
   "version": "3.11.5"
  }
 },
 "nbformat": 4,
 "nbformat_minor": 5
}
